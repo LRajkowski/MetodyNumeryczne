{
 "cells": [
  {
   "cell_type": "markdown",
   "metadata": {},
   "source": [
    "# Metody Numeryczne\n",
    "## Laboratorium 1 (8 października 2021)"
   ]
  },
  {
   "cell_type": "markdown",
   "metadata": {},
   "source": [
    "Na zajęciach będziemy pracowali w Pythonie z paczkami NumPy i SciPy"
   ]
  },
  {
   "cell_type": "code",
   "execution_count": null,
   "metadata": {},
   "outputs": [],
   "source": [
    "# importujemy NumPy\n",
    "# ponadto robimy to w taki sposób, by do funkcji i klas z tej \n",
    "# przestrzeni nazw dopierać się w wygodny sposób, dając im przedrostek \"np.\"\n",
    "import numpy as np"
   ]
  },
  {
   "cell_type": "markdown",
   "metadata": {},
   "source": [
    "Paczka NumPy to wielki przyjaciel Numeryka-Pajtonisty. Dla przykładu, pozwala ona na niezwykle wygodne (w porównaniu z Pythonem-Bez-Numpy) reprezentowanie wektorów i macierzy"
   ]
  },
  {
   "cell_type": "code",
   "execution_count": 7,
   "metadata": {},
   "outputs": [
    {
     "name": "stdout",
     "output_type": "stream",
     "text": [
      "Wektor v to\n",
      " [1 5 6 7]\n",
      "\n",
      "Macierz A to\n",
      " [[4 1 6 5]\n",
      " [6 1 3 6]\n",
      " [5 6 8 9]]\n"
     ]
    }
   ],
   "source": [
    "# definiujemy wektor\n",
    "v = np.array([1,5,6,7])\n",
    "print(f\"Wektor v to\\n {v}\\n\") # super wygodne f-stringi w Pythonie >= 3.6!\n",
    "\n",
    "# definiujemy macierz\n",
    "A = np.array([[4,1,6,5],\n",
    "             [6,1,3,6],\n",
    "             [5,6,8,9]])\n",
    "print(f\"Macierz A to\\n {A}\")"
   ]
  },
  {
   "cell_type": "markdown",
   "metadata": {},
   "source": [
    "Rzecz jasna, wspierane są wszelkie podstawowe operacje na wektorach i macierzach, znane z naszego ukochanego GALu"
   ]
  },
  {
   "cell_type": "code",
   "execution_count": 23,
   "metadata": {},
   "outputs": [
    {
     "name": "stdout",
     "output_type": "stream",
     "text": [
      "A*v=\n",
      "[ 80  71 146]\n",
      "\n",
      "A'=\n",
      "[[4 6 5]\n",
      " [1 1 6]\n",
      " [6 3 8]\n",
      " [5 6 9]]\n",
      "\n",
      "B:=A*A'=\n",
      "[[ 78  73 119]\n",
      " [ 73  82 114]\n",
      " [119 114 206]]\n"
     ]
    }
   ],
   "source": [
    "print(f\"A*v=\\n{A@v}\\n\") # mnożenie wektora przez macierz\n",
    "print(f\"A'=\\n{np.transpose(A)}\\n\") # transpozycja macierzy\n",
    "B=A@np.transpose(A)\n",
    "print(f\"B:=A*A'=\\n{A@np.transpose(A)}\") # transpozycja macierzy"
   ]
  },
  {
   "cell_type": "markdown",
   "metadata": {},
   "source": [
    "Część z bardziej wyszukanych operacji algebroliniowych dostępna jest w podpaczce `np.linalg`"
   ]
  },
  {
   "cell_type": "code",
   "execution_count": 29,
   "metadata": {},
   "outputs": [
    {
     "name": "stdout",
     "output_type": "stream",
     "text": [
      "det(B)=25548.000000000007\n",
      "\n",
      "Macierz odwrotna do B to\n",
      "[[ 0.15249726 -0.05761703 -0.05620792]\n",
      " [-0.05761703  0.07464381 -0.00802411]\n",
      " [-0.05620792 -0.00802411  0.04176452]]\n",
      "\n",
      "Sprawdźmy! B*C=\n",
      "[[ 1.00000000e+00  4.96130914e-16 -6.38378239e-16]\n",
      " [ 2.67841305e-15  1.00000000e+00 -4.99600361e-16]\n",
      " [ 1.31838984e-15 -6.93889390e-18  1.00000000e+00]]\n"
     ]
    }
   ],
   "source": [
    "print(f\"det(B)={np.linalg.det(B)}\\n\")\n",
    "C=np.linalg.inv(B)\n",
    "print(f\"Macierz odwrotna do B to\\n{C}\\n\")\n",
    "print(f\"Sprawdźmy! B*C=\\n{B@C}\")"
   ]
  },
  {
   "cell_type": "code",
   "execution_count": 30,
   "metadata": {},
   "outputs": [
    {
     "name": "stdout",
     "output_type": "stream",
     "text": [
      "6.15 µs ± 71.2 ns per loop (mean ± std. dev. of 7 runs, 100000 loops each)\n"
     ]
    }
   ],
   "source": [
    "%timeit np.linalg.det(B)"
   ]
  },
  {
   "cell_type": "code",
   "execution_count": null,
   "metadata": {},
   "outputs": [],
   "source": []
  }
 ],
 "metadata": {
  "kernelspec": {
   "display_name": "Python 3",
   "language": "python",
   "name": "python3"
  },
  "language_info": {
   "codemirror_mode": {
    "name": "ipython",
    "version": 3
   },
   "file_extension": ".py",
   "mimetype": "text/x-python",
   "name": "python",
   "nbconvert_exporter": "python",
   "pygments_lexer": "ipython3",
   "version": "3.7.3"
  },
  "varInspector": {
   "cols": {
    "lenName": 16,
    "lenType": 16,
    "lenVar": 40
   },
   "kernels_config": {
    "python": {
     "delete_cmd_postfix": "",
     "delete_cmd_prefix": "del ",
     "library": "var_list.py",
     "varRefreshCmd": "print(var_dic_list())"
    },
    "r": {
     "delete_cmd_postfix": ") ",
     "delete_cmd_prefix": "rm(",
     "library": "var_list.r",
     "varRefreshCmd": "cat(var_dic_list()) "
    }
   },
   "types_to_exclude": [
    "module",
    "function",
    "builtin_function_or_method",
    "instance",
    "_Feature"
   ],
   "window_display": false
  }
 },
 "nbformat": 4,
 "nbformat_minor": 2
}
